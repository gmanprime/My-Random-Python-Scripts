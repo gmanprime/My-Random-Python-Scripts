{
 "cells": [
  {
   "cell_type": "code",
   "execution_count": null,
   "metadata": {},
   "outputs": [],
   "source": [
    "from qgis.core import *\n",
    "from qgis.gui import *\n",
    "\n",
    "def normAngle(value1, value2, feature, parent):\n",
    "    # get all the line features from the layer\n",
    "    project = QgsProject.instance()\n",
    "    \n",
    "    # Get all the line features in the layer.\n",
    "    lines = layer.getFeatures()\n",
    "    \n",
    "    intLine = None\n",
    "    \n",
    "    # Iterate over the line features.\n",
    "    for line in lines:\n",
    "        # Get the geometry of the line feature.\n",
    "        geom = line.geometry()\n",
    "\n",
    "        # Check if the line feature intersects the point feature currently being analized.\n",
    "        if geom.intersects(feature.geometry()):\n",
    "            # The line feature intersects the point, so return it.\n",
    "            intLine = line            \n",
    "    \n",
    "    # get vertices from line element\n",
    "    vertices = intLine.geometry().vertices()\n",
    "\n",
    "\n"
   ]
  }
 ],
 "metadata": {
  "language_info": {
   "name": "python"
  },
  "orig_nbformat": 4
 },
 "nbformat": 4,
 "nbformat_minor": 2
}
