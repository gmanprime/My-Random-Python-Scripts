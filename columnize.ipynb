{
 "cells": [
  {
   "attachments": {},
   "cell_type": "markdown",
   "metadata": {},
   "source": [
    "<h1 style=\"color:orange\"> This code is for Organizing data in to text file based columns and rows"
   ]
  },
  {
   "attachments": {},
   "cell_type": "markdown",
   "metadata": {},
   "source": [
    "<h2 style=\"color:lightBlue\"> Imports </h2>"
   ]
  },
  {
   "cell_type": "code",
   "execution_count": 137,
   "metadata": {},
   "outputs": [],
   "source": [
    "import os\n",
    "import sys"
   ]
  },
  {
   "attachments": {},
   "cell_type": "markdown",
   "metadata": {},
   "source": [
    "We First need to make a split function that takes into account the spaces between words"
   ]
  },
  {
   "cell_type": "code",
   "execution_count": 145,
   "metadata": {},
   "outputs": [
    {
     "data": {
      "text/plain": [
       "['name      ', 'age       ', 'profession']"
      ]
     },
     "execution_count": 145,
     "metadata": {},
     "output_type": "execute_result"
    }
   ],
   "source": [
    "def custSplit(text):\n",
    "   \"\"\"\n",
    "   Split a string into words, taking into account the space between words.\n",
    "\n",
    "   Args:\n",
    "   string: The string to split.\n",
    "\n",
    "   Returns:\n",
    "   A list of strings, where each string is a word in the original string.\n",
    "   \"\"\"\n",
    "\n",
    "   # Create an empty list to store the words.\n",
    "   words = []\n",
    "\n",
    "   # Create a variable to store the current word.\n",
    "   current_word = \"\"\n",
    "\n",
    "   # Iterate over the characters in the string.\n",
    "   for i, char in enumerate(text):\n",
    "      \n",
    "      # If the character is a space, add the current word to the list of words and clear the current word variable.\n",
    "      if char == \" \" and (i == len(text)-1 or text[i+1] != \" \"):\n",
    "         words.append(current_word)\n",
    "         current_word = \"\"\n",
    "      elif len(current_word) == 0:\n",
    "         current_word = char\n",
    "      else:\n",
    "         current_word += char\n",
    "\n",
    "   # Add the current word to the list of words, even if it is empty.\n",
    "   words.append(current_word)\n",
    "      \n",
    "\n",
    "   # Return the list of words.\n",
    "   return words\n",
    "\n",
    "custSplit(\"name       age        profession\")"
   ]
  },
  {
   "attachments": {},
   "cell_type": "markdown",
   "metadata": {},
   "source": [
    "The following function takes in a file name and returns a lines it read from the text file"
   ]
  },
  {
   "cell_type": "code",
   "execution_count": 139,
   "metadata": {},
   "outputs": [],
   "source": [
    "def fileImport(file_name):\n",
    "  \"\"\"Imports a text file into Python.\n",
    "\n",
    "  Args:\n",
    "    file_name: The name of the text file to import.\n",
    "\n",
    "  Returns:\n",
    "    A list of strings, where each string is a line from the text file.\n",
    "  \"\"\"\n",
    "  with open(file_name, \"r\") as f:\n",
    "    lines = f.readlines()\n",
    "  return lines"
   ]
  },
  {
   "attachments": {},
   "cell_type": "markdown",
   "metadata": {},
   "source": [
    "The following function generates a list of alignments based on the header positions on the first line of the text"
   ]
  },
  {
   "cell_type": "code",
   "execution_count": 140,
   "metadata": {},
   "outputs": [],
   "source": [
    "def generateAligment(line):\n",
    "   \"\"\"\n",
    "   takes in a line and returns the char count to the start of each word in the line\n",
    "   \"\"\"\n",
    "   words = line.split()\n",
    "   alignments = []\n",
    "   \n",
    "   for word in words:\n",
    "      alignments.append(len(words[:words.index(word)]))\n",
    "      \n",
    "   return alignments\n",
    "   "
   ]
  },
  {
   "attachments": {},
   "cell_type": "markdown",
   "metadata": {},
   "source": [
    "The following function takes in a list of lines and new alignment values and then realigns the individual values"
   ]
  },
  {
   "cell_type": "code",
   "execution_count": 141,
   "metadata": {},
   "outputs": [],
   "source": [
    "def generateNewLine(oldLine, alignments = []):\n",
    "   \"\"\"\n",
    "   this function takes a misaligned line and realigns it to the alignment char values\n",
    "   \"\"\"\n",
    "   oldWords = oldLine.split() # split the line into individual words\n",
    "   \n",
    "   # generate a list of positions based on the title alignments and word length\n",
    "   for i, pos in alignments: \n",
    "      wordLen = alignments[i+1] - alignments[i] # the length the current word would have with the added spaces\n",
    "      pass\n",
    "      \n",
    "   orgLine = \"\"\n",
    "   return orgLine"
   ]
  },
  {
   "cell_type": "code",
   "execution_count": 142,
   "metadata": {},
   "outputs": [],
   "source": [
    "def lineReplace(file_name, old_line, new_line):\n",
    "  \"\"\"Replaces a line in a text file with other text.\n",
    "\n",
    "  Args:\n",
    "    file_name: The name of the text file to replace the line in.\n",
    "    old_line: The line to replace.\n",
    "    new_line: The new line to replace the old line with.\n",
    "  \"\"\"\n",
    "  with open(file_name, \"r+\") as f:\n",
    "    lines = f.readlines()\n",
    "    for i, line in enumerate(lines): #i is the lines index and line is the variable containing the lines text\n",
    "      if line == old_line:\n",
    "        lines[i] = new_line\n",
    "    f.seek(0)\n",
    "    f.writelines(lines)"
   ]
  },
  {
   "cell_type": "code",
   "execution_count": 143,
   "metadata": {},
   "outputs": [],
   "source": [
    "def main():\n",
    "   file_name = sys.argv[1]\n",
    "   old_line = sys.argv[2]\n",
    "   new_line = sys.argv[3]\n",
    "\n",
    "   lines = fileImport(file_name)\n",
    "   lineReplace(file_name, old_line, new_line)"
   ]
  },
  {
   "cell_type": "code",
   "execution_count": 144,
   "metadata": {},
   "outputs": [
    {
     "ename": "FileNotFoundError",
     "evalue": "[Errno 2] No such file or directory: '--ip=127.0.0.1'",
     "output_type": "error",
     "traceback": [
      "\u001b[1;31m---------------------------------------------------------------------------\u001b[0m",
      "\u001b[1;31mFileNotFoundError\u001b[0m                         Traceback (most recent call last)",
      "\u001b[1;32m~\\AppData\\Local\\Temp\\ipykernel_8692\\1451076590.py\u001b[0m in \u001b[0;36m<module>\u001b[1;34m\u001b[0m\n\u001b[0;32m      1\u001b[0m \u001b[1;32mif\u001b[0m \u001b[0m__name__\u001b[0m \u001b[1;33m==\u001b[0m \u001b[1;34m\"__main__\"\u001b[0m\u001b[1;33m:\u001b[0m\u001b[1;33m\u001b[0m\u001b[1;33m\u001b[0m\u001b[0m\n\u001b[1;32m----> 2\u001b[1;33m   \u001b[0mmain\u001b[0m\u001b[1;33m(\u001b[0m\u001b[1;33m)\u001b[0m\u001b[1;33m\u001b[0m\u001b[1;33m\u001b[0m\u001b[0m\n\u001b[0m",
      "\u001b[1;32m~\\AppData\\Local\\Temp\\ipykernel_8692\\753650993.py\u001b[0m in \u001b[0;36mmain\u001b[1;34m()\u001b[0m\n\u001b[0;32m      4\u001b[0m    \u001b[0mnew_line\u001b[0m \u001b[1;33m=\u001b[0m \u001b[0msys\u001b[0m\u001b[1;33m.\u001b[0m\u001b[0margv\u001b[0m\u001b[1;33m[\u001b[0m\u001b[1;36m3\u001b[0m\u001b[1;33m]\u001b[0m\u001b[1;33m\u001b[0m\u001b[1;33m\u001b[0m\u001b[0m\n\u001b[0;32m      5\u001b[0m \u001b[1;33m\u001b[0m\u001b[0m\n\u001b[1;32m----> 6\u001b[1;33m    \u001b[0mlines\u001b[0m \u001b[1;33m=\u001b[0m \u001b[0mfileImport\u001b[0m\u001b[1;33m(\u001b[0m\u001b[0mfile_name\u001b[0m\u001b[1;33m)\u001b[0m\u001b[1;33m\u001b[0m\u001b[1;33m\u001b[0m\u001b[0m\n\u001b[0m\u001b[0;32m      7\u001b[0m    \u001b[0mlineReplace\u001b[0m\u001b[1;33m(\u001b[0m\u001b[0mfile_name\u001b[0m\u001b[1;33m,\u001b[0m \u001b[0mold_line\u001b[0m\u001b[1;33m,\u001b[0m \u001b[0mnew_line\u001b[0m\u001b[1;33m)\u001b[0m\u001b[1;33m\u001b[0m\u001b[1;33m\u001b[0m\u001b[0m\n",
      "\u001b[1;32m~\\AppData\\Local\\Temp\\ipykernel_8692\\2431659948.py\u001b[0m in \u001b[0;36mfileImport\u001b[1;34m(file_name)\u001b[0m\n\u001b[0;32m      8\u001b[0m     \u001b[0mA\u001b[0m \u001b[0mlist\u001b[0m \u001b[0mof\u001b[0m \u001b[0mstrings\u001b[0m\u001b[1;33m,\u001b[0m \u001b[0mwhere\u001b[0m \u001b[0meach\u001b[0m \u001b[0mstring\u001b[0m \u001b[1;32mis\u001b[0m \u001b[0ma\u001b[0m \u001b[0mline\u001b[0m \u001b[1;32mfrom\u001b[0m \u001b[0mthe\u001b[0m \u001b[0mtext\u001b[0m \u001b[0mfile\u001b[0m\u001b[1;33m.\u001b[0m\u001b[1;33m\u001b[0m\u001b[1;33m\u001b[0m\u001b[0m\n\u001b[0;32m      9\u001b[0m   \"\"\"\n\u001b[1;32m---> 10\u001b[1;33m   \u001b[1;32mwith\u001b[0m \u001b[0mopen\u001b[0m\u001b[1;33m(\u001b[0m\u001b[0mfile_name\u001b[0m\u001b[1;33m,\u001b[0m \u001b[1;34m\"r\"\u001b[0m\u001b[1;33m)\u001b[0m \u001b[1;32mas\u001b[0m \u001b[0mf\u001b[0m\u001b[1;33m:\u001b[0m\u001b[1;33m\u001b[0m\u001b[1;33m\u001b[0m\u001b[0m\n\u001b[0m\u001b[0;32m     11\u001b[0m     \u001b[0mlines\u001b[0m \u001b[1;33m=\u001b[0m \u001b[0mf\u001b[0m\u001b[1;33m.\u001b[0m\u001b[0mreadlines\u001b[0m\u001b[1;33m(\u001b[0m\u001b[1;33m)\u001b[0m\u001b[1;33m\u001b[0m\u001b[1;33m\u001b[0m\u001b[0m\n\u001b[0;32m     12\u001b[0m   \u001b[1;32mreturn\u001b[0m \u001b[0mlines\u001b[0m\u001b[1;33m\u001b[0m\u001b[1;33m\u001b[0m\u001b[0m\n",
      "\u001b[1;31mFileNotFoundError\u001b[0m: [Errno 2] No such file or directory: '--ip=127.0.0.1'"
     ]
    }
   ],
   "source": [
    "if __name__ == \"__main__\":\n",
    "  main()"
   ]
  }
 ],
 "metadata": {
  "kernelspec": {
   "display_name": "Python 3",
   "language": "python",
   "name": "python3"
  },
  "language_info": {
   "codemirror_mode": {
    "name": "ipython",
    "version": 3
   },
   "file_extension": ".py",
   "mimetype": "text/x-python",
   "name": "python",
   "nbconvert_exporter": "python",
   "pygments_lexer": "ipython3",
   "version": "3.9.13"
  },
  "orig_nbformat": 4
 },
 "nbformat": 4,
 "nbformat_minor": 2
}
