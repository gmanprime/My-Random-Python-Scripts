{
 "cells": [
  {
   "cell_type": "code",
   "execution_count": 26,
   "metadata": {},
   "outputs": [],
   "source": [
    "class Solution:\n",
    "    def eventualSafeNodes(self, graph: list[list[int]]) -> list[int]:\n",
    "        safeNodes = []\n",
    "        visited = []\n",
    "\n",
    "        def visit(node, parentNode=0):\n",
    "            safe = True #check value to see if node is safe\n",
    "            visited.append(node)\n",
    "            \n",
    "            # if the current node is a terminal node\n",
    "            if not graph[node]:\n",
    "                # print(f'current child {node} Empty: []')\n",
    "                safeNodes.append(node)\n",
    "                return True\n",
    "            \n",
    "            # for every child node in current non terminal node\n",
    "            # determine safety of current node by checking if all children are safe nodes\n",
    "            for childNode in graph[node]:\n",
    "                # print(f'current node: {node}, visiting child: {childNode}')        \n",
    "                \n",
    "                # if the child node hasn't been visited before execute visit\n",
    "                # this will return the safety value of the child node\n",
    "                if(childNode not in visited):\n",
    "                    safe &= visit(childNode, node)\n",
    "                elif childNode in safeNodes:\n",
    "                    safe =True and safe\n",
    "                else:\n",
    "                    # print(f'node {node} is not a safe node')\n",
    "                    safe = False\n",
    "                    \n",
    "            # print(f'no more children in node {node} going back to node: {parentNode}')\n",
    "                \n",
    "            if safe:\n",
    "                safeNodes.append(node)\n",
    "            \n",
    "            return safe\n",
    "            \n",
    "        for i in range(len(graph)):\n",
    "            if(i not in visited):\n",
    "                visit(i)\n",
    "            # print(visited)\n",
    "        \n",
    "        safeNodes.sort()\n",
    "        return safeNodes"
   ]
  },
  {
   "cell_type": "markdown",
   "metadata": {},
   "source": [
    "# Execution Block"
   ]
  },
  {
   "cell_type": "code",
   "execution_count": 27,
   "metadata": {},
   "outputs": [
    {
     "name": "stdout",
     "output_type": "stream",
     "text": [
      "the answer for test [[1, 2], [2, 3], [5], [0], [5], [], []] is:\n",
      "[2, 4, 5, 6]\n",
      "the answer for test [[1, 2, 3, 4], [1, 2], [3, 4], [0, 4], []] is:\n",
      "[4]\n"
     ]
    }
   ],
   "source": [
    "testCases = [\n",
    "    [[1,2],[2,3],[5],[0],[5],[],[]],\n",
    "    [[1,2,3,4],[1,2],[3,4],[0,4],[]]\n",
    "]\n",
    "\n",
    "sol = Solution()\n",
    "\n",
    "for test in testCases:\n",
    "    out = sol.eventualSafeNodes(test)\n",
    "    print(f'the answer for test {test} is:\\n{out}')"
   ]
  }
 ],
 "metadata": {
  "kernelspec": {
   "display_name": "Python 3",
   "language": "python",
   "name": "python3"
  },
  "language_info": {
   "codemirror_mode": {
    "name": "ipython",
    "version": 3
   },
   "file_extension": ".py",
   "mimetype": "text/x-python",
   "name": "python",
   "nbconvert_exporter": "python",
   "pygments_lexer": "ipython3",
   "version": "3.9.13"
  },
  "orig_nbformat": 4
 },
 "nbformat": 4,
 "nbformat_minor": 2
}
