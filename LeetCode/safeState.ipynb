{
 "cells": [
  {
   "cell_type": "code",
   "execution_count": 3,
   "metadata": {},
   "outputs": [],
   "source": [
    "class Solution:\n",
    "    def eventualSafeNodes(self, graph: list[list[int]]) -> list[int]:\n",
    "        safeNodes = []\n",
    "        visited = []\n",
    "\n",
    "        def visit(node):\n",
    "            safe = True \n",
    "            visited.append(node)\n",
    "            \n",
    "            if not graph[node]:\n",
    "                safeNodes.append(node)\n",
    "                return True            \n",
    "            for childNode in graph[node]:                \n",
    "                if(childNode not in visited):\n",
    "                    safe &= visit(childNode)\n",
    "                elif childNode in safeNodes:\n",
    "                    safe =True and safe\n",
    "                else:\n",
    "                    safe = False\n",
    "            if safe:\n",
    "                safeNodes.append(node)\n",
    "            return safe\n",
    "        for i in range(len(graph)):\n",
    "            if(i not in visited):\n",
    "                visit(i)\n",
    "        safeNodes.sort()\n",
    "        return safeNodes"
   ]
  },
  {
   "cell_type": "markdown",
   "metadata": {},
   "source": [
    "# AI alternative"
   ]
  },
  {
   "cell_type": "code",
   "execution_count": 8,
   "metadata": {},
   "outputs": [],
   "source": [
    "class Solution:\n",
    "    def eventualSafeNodes(self, graph: list[list[int]]) -> list[int]:\n",
    "        # Use a memoization table to store the status of each node\n",
    "        # 0: unvisited, 1: unsafe, 2: safe\n",
    "        memo = [0] * len(graph)\n",
    "\n",
    "        def visit(node):\n",
    "            # If the node is already visited, return its status relative to\n",
    "            # weather its safe or\n",
    "            if memo[node] != 0:\n",
    "                return memo[node] == 2\n",
    "            # Mark the node as unsafe before exploring its children\n",
    "            memo[node] = 1\n",
    "            # If all the children are safe, mark the node as safe\n",
    "            if all(visit(child) for child in graph[node]):\n",
    "                memo[node] = 2\n",
    "            return memo[node] == 2\n",
    "        \n",
    "        # Return the indices of the safe nodes\n",
    "        return [i for i in range(len(graph)) if visit(i)]\n"
   ]
  },
  {
   "cell_type": "markdown",
   "metadata": {},
   "source": [
    "# Execution Block"
   ]
  },
  {
   "cell_type": "code",
   "execution_count": 9,
   "metadata": {},
   "outputs": [
    {
     "name": "stdout",
     "output_type": "stream",
     "text": [
      "the answer for test [[1, 2], [2, 3], [5], [0], [5], [], []] is:\n",
      "[2, 4, 5, 6]\n",
      "the answer for test [[1, 2, 3, 4], [1, 2], [3, 4], [0, 4], []] is:\n",
      "[4]\n"
     ]
    }
   ],
   "source": [
    "testCases = [\n",
    "    [[1,2],[2,3],[5],[0],[5],[],[]],\n",
    "    [[1,2,3,4],[1,2],[3,4],[0,4],[]],\n",
    "]\n",
    "\n",
    "sol = Solution()\n",
    "\n",
    "for test in testCases:\n",
    "    out = sol.eventualSafeNodes(test)\n",
    "    print(f'the answer for test {test} is:\\n{out}')"
   ]
  }
 ],
 "metadata": {
  "kernelspec": {
   "display_name": "Python 3",
   "language": "python",
   "name": "python3"
  },
  "language_info": {
   "codemirror_mode": {
    "name": "ipython",
    "version": 3
   },
   "file_extension": ".py",
   "mimetype": "text/x-python",
   "name": "python",
   "nbconvert_exporter": "python",
   "pygments_lexer": "ipython3",
   "version": "3.9.13"
  },
  "orig_nbformat": 4
 },
 "nbformat": 4,
 "nbformat_minor": 2
}
