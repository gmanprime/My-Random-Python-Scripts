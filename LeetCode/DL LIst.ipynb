{
 "cells": [
  {
   "cell_type": "code",
   "execution_count": 2,
   "metadata": {},
   "outputs": [],
   "source": [
    "class Node:\n",
    "    def __init__(self, data, preNext = None, prePrev = None) -> None:\n",
    "        self.data = data\n",
    "        self.next = preNext\n",
    "        self.prev = prePrev\n",
    "    \n",
    "    def append(self, newNode):\n",
    "        if type(newNode) == Node:\n",
    "            oldNext = self.next                 # extract the old next\n",
    "            self.next = newNode           # set current next to a new Node element\n",
    "            if oldNext: oldNext.prev = self.next# set the previous element of the old next to the new next element\n",
    "            self.next.next = oldNext            # append the old next element to the new node\n",
    "            self.next.prev = self               # set the previous value of the new element to the current node\n",
    "            return newNode\n",
    "        else:\n",
    "            print(\"Not a node type element\")\n",
    "        \n",
    "    def prepend(self, newNode):\n",
    "        oldPrev = self.prev                 # extract the old prev\n",
    "        self.prev = newNode              # set current prev to a new Node element\n",
    "        if oldPrev: oldPrev.next = self.prev# set the previous element of the old prev to the new prev element\n",
    "        self.prev.prev = oldPrev            # append the old next element to the new node\n",
    "        self.prev.next = self               # set the previous value of the new element to the current node\n",
    "        \n",
    "    def delete(self):\n",
    "        if self.next: self.next.prev = self.prev\n",
    "        if self.prev: self.prev.next = self.next\n",
    "        self.next = None\n",
    "        self.prev = None\n",
    "        self.data = None\n",
    "    \n",
    "    def view(self):\n",
    "        print(f'prev: {self.prev.data if self.prev else self.prev}')\n",
    "        print(f'node: {self.data}')\n",
    "        print(f'next: {self.next.data if self.next else self.next}')\n",
    "        print('\\n')\n",
    "    \n",
    "    def viewFollowing(self):\n",
    "        if self.next == None:\n",
    "            return\n",
    "        else:\n",
    "            self.next.view()\n",
    "            self.next.viewFollowing()\n",
    "    \n",
    "    def viewPreceding(self):       \n",
    "        if self.prev == None:\n",
    "            self.view()\n",
    "        else:\n",
    "            self.prev.viewPreceding()\n",
    "        "
   ]
  },
  {
   "cell_type": "code",
   "execution_count": null,
   "metadata": {},
   "outputs": [],
   "source": [
    "nd1 = Node(1)\n",
    "nd2 = Node(2)\n",
    "nd3 = Node(3)\n",
    "\n",
    "nd1.append(nd2).append(nd3)"
   ]
  }
 ],
 "metadata": {
  "kernelspec": {
   "display_name": "Python 3",
   "language": "python",
   "name": "python3"
  },
  "language_info": {
   "codemirror_mode": {
    "name": "ipython",
    "version": 3
   },
   "file_extension": ".py",
   "mimetype": "text/x-python",
   "name": "python",
   "nbconvert_exporter": "python",
   "pygments_lexer": "ipython3",
   "version": "3.9.13"
  },
  "orig_nbformat": 4
 },
 "nbformat": 4,
 "nbformat_minor": 2
}
