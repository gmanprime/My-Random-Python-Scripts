{
 "cells": [
  {
   "cell_type": "markdown",
   "metadata": {},
   "source": [
    "# Customized Boiler Plate Code"
   ]
  },
  {
   "cell_type": "code",
   "execution_count": 1,
   "metadata": {},
   "outputs": [],
   "source": [
    "class LRUCache:\n",
    "\n",
    "    def __init__(self, capacity: int):\n",
    "        # dictionary of key values\n",
    "        self.dict = {}\n",
    "        # save max capacity locally\n",
    "        self.cap = capacity\n",
    "\n",
    "    def get(self, key: int) -> int:\n",
    "        # check weather the key exists in the dictionary and if not\n",
    "        # end the function with a return call of -1 to indicate\n",
    "        # that the key cant be retrieved\n",
    "        if key not in self.dict:\n",
    "            return -1\n",
    "        \n",
    "        # if the key already exists in the dictionary\n",
    "        # set the key value in dict to the removed value,\n",
    "        # moving the key to the new value\n",
    "        self.dict[key] = self.dict.pop(key)\n",
    "\n",
    "        # return the key to the user\n",
    "        return self.dict[key]\n",
    "\n",
    "    def put(self, key: int, value: int) -> None:\n",
    "        # check weather key exists in the dictionary and if it does\n",
    "        # remove the key fro the dictionary\n",
    "        if key in self.dict:\n",
    "            self.dict.pop(key)\n",
    "        \n",
    "        else: \n",
    "            # when the key is not in the dictionary, check weather the\n",
    "            # capacity has been met by checking 0 value\n",
    "            if self.cap:\n",
    "                # as long as the capacity is not 0 keep iterating down the value\n",
    "                self.cap -= 1\n",
    "            else:\n",
    "                # if the capacity has been met, compute an iterable version\n",
    "                # of the dictionary and select the next value then pop that\n",
    "                self.dict.pop(next(iter(self.dict)))\n",
    "        \n",
    "        self.dict[key] = value\n",
    "        \n",
    "\n",
    "\n",
    "# Your LRUCache object will be instantiated and called as such:\n",
    "# obj = LRUCache(capacity)\n",
    "# param_1 = obj.get(key)\n",
    "# obj.put(key,value)"
   ]
  }
 ],
 "metadata": {
  "kernelspec": {
   "display_name": "Python 3",
   "language": "python",
   "name": "python3"
  },
  "language_info": {
   "codemirror_mode": {
    "name": "ipython",
    "version": 3
   },
   "file_extension": ".py",
   "mimetype": "text/x-python",
   "name": "python",
   "nbconvert_exporter": "python",
   "pygments_lexer": "ipython3",
   "version": "3.9.13"
  },
  "orig_nbformat": 4
 },
 "nbformat": 4,
 "nbformat_minor": 2
}
