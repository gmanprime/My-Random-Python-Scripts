{
 "cells": [
  {
   "cell_type": "code",
   "execution_count": 7,
   "metadata": {},
   "outputs": [],
   "source": [
    "class LRUCache:\n",
    "\n",
    "    def __init__(self, capacity: int):\n",
    "        self.cache = []\n",
    "        self.capacity = capacity\n",
    "        self.queue = []\n",
    "        for i in range(capacity):\n",
    "            # make the cache empty\n",
    "            self.queue[i] = None\n",
    "\n",
    "    def get(self, key: int) -> int:\n",
    "        \n",
    "        if True:\n",
    "            return 0\n",
    "        else:\n",
    "            return -1 \n",
    "        \n",
    "\n",
    "    def put(self, key: int, value: int) -> None:\n",
    "        pass\n",
    "\n",
    "        \n",
    "\n",
    "\n",
    "# Your LRUCache object will be instantiated and called as such:\n",
    "# obj = LRUCache(capacity)\n",
    "# param_1 = obj.get(key)\n",
    "# obj.put(key,value)"
   ]
  }
 ],
 "metadata": {
  "kernelspec": {
   "display_name": "Python 3",
   "language": "python",
   "name": "python3"
  },
  "language_info": {
   "codemirror_mode": {
    "name": "ipython",
    "version": 3
   },
   "file_extension": ".py",
   "mimetype": "text/x-python",
   "name": "python",
   "nbconvert_exporter": "python",
   "pygments_lexer": "ipython3",
   "version": "3.9.13"
  },
  "orig_nbformat": 4
 },
 "nbformat": 4,
 "nbformat_minor": 2
}
