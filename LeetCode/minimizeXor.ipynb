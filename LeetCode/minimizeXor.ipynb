{
 "cells": [
  {
   "cell_type": "markdown",
   "metadata": {},
   "source": [
    "# My Solution for MinXOR"
   ]
  },
  {
   "cell_type": "code",
   "execution_count": 5,
   "metadata": {},
   "outputs": [],
   "source": [
    "class Solution:\n",
    "\n",
    "    def bitCount(self, num):\n",
    "        bitsR1 = 0  \n",
    "        for val in list(num):\n",
    "            if val == \"1\":\n",
    "                bitsR1+=1\n",
    "        return bitsR1\n",
    "                \n",
    "    def minimizeXor(self, num1: int, num2: int) -> int:\n",
    "        x = 0\n",
    "        binNum1 = bin(num1)[2:] #binary number 1 in string\n",
    "        binNum2 = bin(num2)[2:] #binary Number 2 in string \n",
    "        \n",
    "        bin1Cnt = self.bitCount(binNum1)\n",
    "        bin2Cnt = self.bitCount(binNum2)\n",
    "        \n",
    "        if(bin1Cnt == bin2Cnt):\n",
    "            return min(num1, num2)\n",
    "            print('equal set count')\n",
    "        elif(bin1Cnt > bin2Cnt):\n",
    "            diff = bin1Cnt - bin2Cnt\n",
    "            print(f\"num1 set count bigger by: {diff}\")\n",
    "            binList = list(binNum1)\n",
    "            \n",
    "            for i, val in enumerate(binList[::-1]):\n",
    "                i+=1 #right shift because there is no -0\n",
    "                if diff != 0:\n",
    "                    if val == '1':\n",
    "                        binList[-i] = '0';\n",
    "                        diff-=1\n",
    "                else: \n",
    "                    break\n",
    "                \n",
    "            return int(''.join(binList), 2)\n",
    "        else:\n",
    "            diff = bin2Cnt - bin1Cnt\n",
    "            print(f\"num2 set count bigger by: {diff}\")\n",
    "            sortedVals = list(binNum2)\n",
    "            sortedVals.sort(key = lambda binVal: int(binVal))\n",
    "            binString = ''.join(sortedVals)\n",
    "            \n",
    "            return int(binString, 2)\n",
    "        \n",
    "        return 0\n",
    "                      "
   ]
  },
  {
   "cell_type": "markdown",
   "metadata": {},
   "source": [
    "# Working Solution for MinXOR"
   ]
  },
  {
   "cell_type": "code",
   "execution_count": 20,
   "metadata": {},
   "outputs": [],
   "source": [
    "\n",
    "class Solution:\n",
    "    def minimizeXor(self, num1: int, num2: int) -> int:\n",
    "        bin1, bin2 = bin(num1)[2:], bin(num2)[2:]\n",
    "        binCount1, binCount2 = bin1.count('1'), bin2.count('1')\n",
    "        \n",
    "        res = num1\n",
    "        for i in range(len(bin1)):\n",
    "            shiftVal = (1 << i)\n",
    "            shiftValBin = bin(shiftVal)[2:]\n",
    "            num1Comp = shiftVal & num1\n",
    "            num1CompBin = bin(num1Comp)[2:]\n",
    "            \n",
    "            if binCount1 > binCount2 and num1Comp > 0:\n",
    "                res ^= 1 << i\n",
    "                binCount1 -= 1\n",
    "            if binCount1 < binCount2 and num1Comp == 0:\n",
    "                res ^= 1 << i\n",
    "                binCount1 += 1\n",
    "                \n",
    "        return res"
   ]
  },
  {
   "cell_type": "code",
   "execution_count": 21,
   "metadata": {},
   "outputs": [
    {
     "name": "stdout",
     "output_type": "stream",
     "text": [
      "the solution to inputs num1: 1 and num2: 12 is: 3\n"
     ]
    }
   ],
   "source": [
    "sol = Solution()\n",
    "TestCases = [\n",
    "    # [3,5],\n",
    "    [1,12],\n",
    "    # [5,16],\n",
    "    # [25,72],\n",
    "    # [65,84],\n",
    "    # [0,0]\n",
    "]\n",
    "\n",
    "for elem in TestCases:\n",
    "    currentSol = sol.minimizeXor(elem[0],elem[1])\n",
    "    print(\n",
    "        f'the solution to inputs num1: {elem[0]} and num2: {elem[1]} is: {currentSol}'\n",
    "    )"
   ]
  }
 ],
 "metadata": {
  "kernelspec": {
   "display_name": "Python 3",
   "language": "python",
   "name": "python3"
  },
  "language_info": {
   "codemirror_mode": {
    "name": "ipython",
    "version": 3
   },
   "file_extension": ".py",
   "mimetype": "text/x-python",
   "name": "python",
   "nbconvert_exporter": "python",
   "pygments_lexer": "ipython3",
   "version": "3.9.13"
  },
  "orig_nbformat": 4
 },
 "nbformat": 4,
 "nbformat_minor": 2
}
